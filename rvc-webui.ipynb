{
  "nbformat": 4,
  "nbformat_minor": 0,
  "metadata": {
    "colab": {
      "provenance": [],
      "include_colab_link": true
    },
    "kernelspec": {
      "name": "python3",
      "display_name": "Python 3"
    },
    "language_info": {
      "name": "python"
    },
    "accelerator": "GPU",
    "gpuClass": "standard"
  },
  "cells": [
    {
      "cell_type": "markdown",
      "metadata": {
        "id": "view-in-github",
        "colab_type": "text"
      },
      "source": [
        "<a href=\"https://colab.research.google.com/github/yuneshwaran/python/blob/main/rvc-webui.ipynb\" target=\"_parent\"><img src=\"https://colab.research.google.com/assets/colab-badge.svg\" alt=\"Open In Colab\"/></a>"
      ]
    },
    {
      "cell_type": "code",
      "execution_count": null,
      "metadata": {
        "id": "m2nf2vQJyipi"
      },
      "outputs": [],
      "source": [
        "! nvidia-smi\n",
        "! nvcc -V\n",
        "! free -h"
      ]
    },
    {
      "cell_type": "code",
      "source": [
        "import os\n",
        "\n",
        "# @markdown # Mount Google Drive\n",
        "data_path = \"/content/data\"\n",
        "mount_gdrive = True  # @param {type:\"boolean\"}\n",
        "gdrive_data_path = \"/content/drive/MyDrive/AI/rvc-webui\"  # @param {type:\"string\"}\n",
        "\n",
        "if mount_gdrive:\n",
        "    from google.colab import drive\n",
        "    drive.mount('/content/drive', force_remount=False)\n",
        "    os.makedirs(gdrive_data_path, exist_ok=True)\n",
        "    ! ln -s {data_path} {gdrive_data_path}\n",
        "else:\n",
        "    os.makedirs(data_path, exist_ok=True)"
      ],
      "metadata": {
        "cellView": "form",
        "id": "Okkn_b6mzVxR",
        "outputId": "2c9b1354-0ae1-4258-a611-6a7c58059785",
        "colab": {
          "base_uri": "https://localhost:8080/"
        }
      },
      "execution_count": 2,
      "outputs": [
        {
          "output_type": "stream",
          "name": "stdout",
          "text": [
            "Mounted at /content/drive\n"
          ]
        }
      ]
    },
    {
      "cell_type": "code",
      "source": [
        "# @markdown # Clone repository\n",
        "\n",
        "%cd /content/\n",
        "repository_url = \"https://github.com/ddPn08/rvc-webui.git\"  # @param {type: \"string\"}\n",
        "webui_branch = \"main\"  # @param {type: \"string\"}\n",
        "\n",
        "! git clone {repository_url}\n",
        "%cd /content/rvc-webui"
      ],
      "metadata": {
        "cellView": "form",
        "id": "kouCZn0UzDgk",
        "outputId": "ca2195a8-9fdc-48ee-e754-f5e2f49c4ba1",
        "colab": {
          "base_uri": "https://localhost:8080/"
        }
      },
      "execution_count": 3,
      "outputs": [
        {
          "output_type": "stream",
          "name": "stdout",
          "text": [
            "/content\n",
            "Cloning into 'rvc-webui'...\n",
            "remote: Enumerating objects: 1135, done.\u001b[K\n",
            "remote: Counting objects: 100% (524/524), done.\u001b[K\n",
            "remote: Compressing objects: 100% (89/89), done.\u001b[K\n",
            "remote: Total 1135 (delta 467), reused 435 (delta 435), pack-reused 611 (from 1)\u001b[K\n",
            "Receiving objects: 100% (1135/1135), 406.49 KiB | 7.26 MiB/s, done.\n",
            "Resolving deltas: 100% (779/779), done.\n",
            "/content/rvc-webui\n"
          ]
        }
      ]
    },
    {
      "cell_type": "code",
      "source": [
        "# @markdown # Initialize environment\n",
        "import os\n",
        "\n",
        "conda_dir = \"/opt/conda\"  # @param{type:\"string\"}\n",
        "conda_bin = os.path.join(conda_dir, \"bin\", \"conda\")\n",
        "\n",
        "if not os.path.exists(conda_bin):\n",
        "    ! curl -O https://repo.anaconda.com/miniconda/Miniconda3-py310_23.5.0-3-Linux-x86_64.sh\n",
        "    ! chmod +x Miniconda3-py310_23.5.0-3-Linux-x86_64.sh\n",
        "    ! bash ./Miniconda3-py310_23.5.0-3-Linux-x86_64.sh -b -f -p {conda_dir}\n",
        "    ! rm Miniconda3-py310_23.5.0-3-Linux-x86_64.sh\n",
        "\n",
        "def run_script(s):\n",
        "    ! {s}\n",
        "\n",
        "def make_args(d):\n",
        "    arguments = \"\"\n",
        "    for k, v in d.items():\n",
        "        if type(v) == bool:\n",
        "            arguments += f\"--{k} \" if v else \"\"\n",
        "        elif type(v) == str and v:\n",
        "            arguments += f\"--{k} \\\"{v}\\\" \"\n",
        "        elif v:\n",
        "            arguments += f\"--{k}={v} \"\n",
        "    return arguments\n",
        "\n",
        "if os.path.exists(\"requirments.txt\"):\n",
        "    ! mv requirments.txt requirements.txt"
      ],
      "metadata": {
        "id": "quL_v17WzRiR",
        "cellView": "form"
      },
      "execution_count": null,
      "outputs": []
    },
    {
      "cell_type": "code",
      "source": [
        "# @markdown # Launch webui\n",
        "run_script(f\"\"\"\n",
        "eval \"$({conda_bin} shell.bash hook)\"\n",
        "python launch.py --share --host 0.0.0.0 --port 41130\n",
        "\"\"\")"
      ],
      "metadata": {
        "cellView": "form",
        "id": "tN3j3Xaz2Nja",
        "outputId": "0411d4ed-ba54-4eab-cf9d-a8f3bf9a2ea0",
        "colab": {
          "base_uri": "https://localhost:8080/",
          "height": 219
        }
      },
      "execution_count": 1,
      "outputs": [
        {
          "output_type": "error",
          "ename": "NameError",
          "evalue": "name 'run_script' is not defined",
          "traceback": [
            "\u001b[0;31m---------------------------------------------------------------------------\u001b[0m",
            "\u001b[0;31mNameError\u001b[0m                                 Traceback (most recent call last)",
            "\u001b[0;32m<ipython-input-1-6a3f45ad4ddc>\u001b[0m in \u001b[0;36m<cell line: 0>\u001b[0;34m()\u001b[0m\n\u001b[1;32m      1\u001b[0m \u001b[0;31m# @markdown # Launch webui\u001b[0m\u001b[0;34m\u001b[0m\u001b[0;34m\u001b[0m\u001b[0m\n\u001b[0;32m----> 2\u001b[0;31m run_script(f\"\"\"\n\u001b[0m\u001b[1;32m      3\u001b[0m \u001b[0meval\u001b[0m \u001b[0;34m\"$({conda_bin} shell.bash hook)\"\u001b[0m\u001b[0;34m\u001b[0m\u001b[0;34m\u001b[0m\u001b[0m\n\u001b[1;32m      4\u001b[0m \u001b[0mpython\u001b[0m \u001b[0mlaunch\u001b[0m\u001b[0;34m.\u001b[0m\u001b[0mpy\u001b[0m \u001b[0;34m-\u001b[0m\u001b[0;34m-\u001b[0m\u001b[0mshare\u001b[0m \u001b[0;34m-\u001b[0m\u001b[0;34m-\u001b[0m\u001b[0mhost\u001b[0m \u001b[0;36m0.0\u001b[0m\u001b[0;36m.0\u001b[0m\u001b[0;36m.0\u001b[0m \u001b[0;34m-\u001b[0m\u001b[0;34m-\u001b[0m\u001b[0mport\u001b[0m \u001b[0;36m41130\u001b[0m\u001b[0;34m\u001b[0m\u001b[0;34m\u001b[0m\u001b[0m\n\u001b[1;32m      5\u001b[0m \"\"\")\n",
            "\u001b[0;31mNameError\u001b[0m: name 'run_script' is not defined"
          ]
        }
      ]
    }
  ]
}